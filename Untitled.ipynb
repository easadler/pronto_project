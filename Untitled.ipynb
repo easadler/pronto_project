{
 "cells": [
  {
   "cell_type": "code",
   "execution_count": 1,
   "metadata": {
    "collapsed": true
   },
   "outputs": [],
   "source": [
    "import numpy as np\n",
    "import pandas as pd\n",
    "import matplotlib.pyplot as plt\n",
    "from pandas.tools.plotting import scatter_matrix\n",
    "from scipy.stats import gaussian_kde\n",
    "\n",
    "pd.set_option('display.mpl_style', 'default') # Make the graphs a bit prettier\n",
    "%matplotlib inline"
   ]
  },
  {
   "cell_type": "code",
   "execution_count": 171,
   "metadata": {
    "collapsed": true
   },
   "outputs": [],
   "source": [
    "df = pd.read_csv('regression_data.csv')"
   ]
  },
  {
   "cell_type": "code",
   "execution_count": 172,
   "metadata": {
    "collapsed": false
   },
   "outputs": [],
   "source": [
    "df = df.rename(columns = {'from_station_id': 'terminal', 'bikeid': 'count'})"
   ]
  },
  {
   "cell_type": "code",
   "execution_count": 173,
   "metadata": {
    "collapsed": false
   },
   "outputs": [],
   "source": [
    "df = df.ix[df['terminal'] != 'Pronto shop',:]"
   ]
  },
  {
   "cell_type": "code",
   "execution_count": 174,
   "metadata": {
    "collapsed": false
   },
   "outputs": [],
   "source": [
    "terminals = df['terminal'].unique()\n",
    "hours = df['starthour'].unique()\n",
    "dows = df['dayofweek'].unique()\n",
    "months = df['month'].unique()"
   ]
  },
  {
   "cell_type": "code",
   "execution_count": 239,
   "metadata": {
    "collapsed": false
   },
   "outputs": [],
   "source": [
    "# Load weatherdata and add some features to make index\n",
    "df_w = pd.read_csv('open_data_year_one/2015_weather_data.csv')\n",
    "df_w['hour'] = 0\n",
    "df_w['terminal'] = 'BT-01'\n",
    "dates = df_w.Date\n",
    "df_w.index = [df_w.Date, df_w.hour, df_w.terminal]\n"
   ]
  },
  {
   "cell_type": "code",
   "execution_count": 240,
   "metadata": {
    "collapsed": false
   },
   "outputs": [],
   "source": [
    "full_index = pd.MultiIndex.from_product([dates, hours, terminals], names=['date','hour', 'terminal'])"
   ]
  },
  {
   "cell_type": "code",
   "execution_count": 241,
   "metadata": {
    "collapsed": false
   },
   "outputs": [],
   "source": [
    "df_w = df_w.reindex(full_index)"
   ]
  },
  {
   "cell_type": "code",
   "execution_count": 242,
   "metadata": {
    "collapsed": false
   },
   "outputs": [],
   "source": [
    "df_w.drop(['terminal','hour'], axis = 1, inplace = True)\n",
    "df_w = df_w.reset_index()"
   ]
  },
  {
   "cell_type": "code",
   "execution_count": 246,
   "metadata": {
    "collapsed": false
   },
   "outputs": [],
   "source": [
    "for date in df_w.date.unique():\n",
    "    df_w.ix[df_w.date == date, ~df_w.columns.isin(['date','hour','terminal'])] = df_w.ix[(df_w.date == date) & (df_w.hour == 0) & (df_w.terminal == 'BT-01'), ~df_w.columns.isin(['date','hour','terminal'])].values"
   ]
  },
  {
   "cell_type": "code",
   "execution_count": 252,
   "metadata": {
    "collapsed": false
   },
   "outputs": [],
   "source": [
    "df_w = df_w.dropna(subset = ['date'])"
   ]
  },
  {
   "cell_type": "code",
   "execution_count": 283,
   "metadata": {
    "collapsed": false
   },
   "outputs": [],
   "source": [
    "df_c = pd.read_csv(\"bikecounts.csv\")\n",
    "df_c = df_c.rename(columns = {'from_station_id': 'terminal'})"
   ]
  },
  {
   "cell_type": "code",
   "execution_count": 285,
   "metadata": {
    "collapsed": false
   },
   "outputs": [],
   "source": [
    "df_t = df_w.merge(df_c, on = ['date', 'hour', 'terminal'], how = 'left')"
   ]
  },
  {
   "cell_type": "code",
   "execution_count": 290,
   "metadata": {
    "collapsed": false
   },
   "outputs": [],
   "source": [
    "df_t['bikeid'] = df_t['bikeid'].fillna(0)"
   ]
  },
  {
   "cell_type": "code",
   "execution_count": 292,
   "metadata": {
    "collapsed": false
   },
   "outputs": [],
   "source": [
    "df_t.to_csv('finally.csv', index = False)"
   ]
  },
  {
   "cell_type": "code",
   "execution_count": 303,
   "metadata": {
    "collapsed": false
   },
   "outputs": [],
   "source": [
    "df_s = pd.read_csv('open_data_year_one/2015_station_data.csv')"
   ]
  },
  {
   "cell_type": "code",
   "execution_count": 298,
   "metadata": {
    "collapsed": false
   },
   "outputs": [],
   "source": [
    "df_s = df_s[['terminal','dockcount','elevation','hood']]"
   ]
  },
  {
   "cell_type": "code",
   "execution_count": 300,
   "metadata": {
    "collapsed": false
   },
   "outputs": [],
   "source": [
    "df_n = df_t.merge(df_s, on = 'terminal')"
   ]
  },
  {
   "cell_type": "code",
   "execution_count": null,
   "metadata": {
    "collapsed": false
   },
   "outputs": [],
   "source": []
  },
  {
   "cell_type": "code",
   "execution_count": null,
   "metadata": {
    "collapsed": false
   },
   "outputs": [],
   "source": []
  },
  {
   "cell_type": "code",
   "execution_count": null,
   "metadata": {
    "collapsed": true
   },
   "outputs": [],
   "source": []
  }
 ],
 "metadata": {
  "kernelspec": {
   "display_name": "Python 2",
   "language": "python",
   "name": "python2"
  },
  "language_info": {
   "codemirror_mode": {
    "name": "ipython",
    "version": 2
   },
   "file_extension": ".py",
   "mimetype": "text/x-python",
   "name": "python",
   "nbconvert_exporter": "python",
   "pygments_lexer": "ipython2",
   "version": "2.7.10"
  }
 },
 "nbformat": 4,
 "nbformat_minor": 0
}
