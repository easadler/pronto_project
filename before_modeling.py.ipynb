{
 "cells": [
  {
   "cell_type": "code",
   "execution_count": 1,
   "metadata": {
    "collapsed": true
   },
   "outputs": [],
   "source": [
    "import numpy as np\n",
    "import pandas as pd\n",
    "import matplotlib.pyplot as plt\n",
    "from pandas.tools.plotting import scatter_matrix\n",
    "from scipy.stats import gaussian_kde\n",
    "\n",
    "pd.set_option('display.mpl_style', 'default') # Make the graphs a bit prettier\n",
    "%matplotlib inline"
   ]
  },
  {
   "cell_type": "code",
   "execution_count": 2,
   "metadata": {
    "collapsed": false
   },
   "outputs": [
    {
     "name": "stderr",
     "output_type": "stream",
     "text": [
      "/Library/Python/2.7/site-packages/pandas/io/parsers.py:1170: DtypeWarning: Columns (23) have mixed types. Specify dtype option on import or set low_memory=False.\n",
      "  data = self._reader.read(nrows)\n"
     ]
    }
   ],
   "source": [
    "df = pd.read_csv('Real Scripts/final.csv')"
   ]
  },
  {
   "cell_type": "code",
   "execution_count": 3,
   "metadata": {
    "collapsed": false,
    "scrolled": true
   },
   "outputs": [
    {
     "data": {
      "text/plain": [
       "Index([u'date', u'hour', u'terminal', u'Date', u'Max_Temperature_F',\n",
       "       u'Mean_Temperature_F', u'Min_TemperatureF', u'Max_Dew_Point_F',\n",
       "       u'MeanDew_Point_F', u'Min_Dewpoint_F', u'Max_Humidity',\n",
       "       u'Mean_Humidity ', u'Min_Humidity ', u'Max_Sea_Level_Pressure_In ',\n",
       "       u'Mean_Sea_Level_Pressure_In ', u'Min_Sea_Level_Pressure_In ',\n",
       "       u'Max_Visibility_Miles ', u'Mean_Visibility_Miles ',\n",
       "       u'Min_Visibility_Miles ', u'Max_Wind_Speed_MPH ',\n",
       "       u'Mean_Wind_Speed_MPH ', u'Max_Gust_Speed_MPH', u'Precipitation_In ',\n",
       "       u'Events', u'count', u'name', u'lat', u'long', u'dockcount', u'online',\n",
       "       u'elevation', u'hood', u'big_cluster', u'smallgroups'],\n",
       "      dtype='object')"
      ]
     },
     "execution_count": 3,
     "metadata": {},
     "output_type": "execute_result"
    }
   ],
   "source": [
    "df.columns"
   ]
  },
  {
   "cell_type": "code",
   "execution_count": 4,
   "metadata": {
    "collapsed": false
   },
   "outputs": [],
   "source": [
    "# Clean mac gust speed column\n",
    "\n",
    "\n",
    "df.ix[df['Max_Gust_Speed_MPH'] == '-', 'Max_Gust_Speed_MPH'] = np.nan\n",
    "df['Max_Gust_Speed_MPH'] = df['Max_Gust_Speed_MPH'].astype(float)\n",
    "df['Max_Gust_Speed_MPH'] = df['Max_Gust_Speed_MPH'].fillna(df['Max_Gust_Speed_MPH'].mean())"
   ]
  },
  {
   "cell_type": "code",
   "execution_count": null,
   "metadata": {
    "collapsed": false
   },
   "outputs": [],
   "source": []
  },
  {
   "cell_type": "code",
   "execution_count": 5,
   "metadata": {
    "collapsed": false
   },
   "outputs": [
    {
     "name": "stdout",
     "output_type": "stream",
     "text": [
      "['CBD-04' 'CD-01' 'SLU-20' 'SLU-21']\n"
     ]
    }
   ],
   "source": [
    "new_terminals = df.ix[df['online'] != '10/13/2014','terminal'].unique()\n",
    "print new_terminals"
   ]
  },
  {
   "cell_type": "code",
   "execution_count": 6,
   "metadata": {
    "collapsed": false
   },
   "outputs": [
    {
     "data": {
      "text/plain": [
       "['7/22/2015', '5/21/2015', '6/12/2015', '9/19/2015']"
      ]
     },
     "execution_count": 6,
     "metadata": {},
     "output_type": "execute_result"
    }
   ],
   "source": [
    "online = []\n",
    "for t in new_terminals:\n",
    "    online.append(df.ix[df['terminal'] == t,'online'].unique()[0])\n",
    "online"
   ]
  },
  {
   "cell_type": "code",
   "execution_count": 7,
   "metadata": {
    "collapsed": false
   },
   "outputs": [
    {
     "name": "stdout",
     "output_type": "stream",
     "text": [
      "[8, 0, 8, 6]\n"
     ]
    }
   ],
   "source": [
    "smallgroups = []\n",
    "for t in new_terminals:\n",
    "    smallgroups.append(df.ix[df['terminal'] == t,'smallgroups'].unique()[0])\n",
    "print smallgroups \n"
   ]
  },
  {
   "cell_type": "code",
   "execution_count": 164,
   "metadata": {
    "collapsed": false
   },
   "outputs": [
    {
     "data": {
      "text/plain": [
       "473040"
      ]
     },
     "execution_count": 164,
     "metadata": {},
     "output_type": "execute_result"
    }
   ],
   "source": []
  },
  {
   "cell_type": "code",
   "execution_count": 8,
   "metadata": {
    "collapsed": false
   },
   "outputs": [],
   "source": [
    "df['date'] = pd.to_datetime(df['date'])"
   ]
  },
  {
   "cell_type": "code",
   "execution_count": 9,
   "metadata": {
    "collapsed": false
   },
   "outputs": [],
   "source": [
    "df['timeperiod'] = pd.cut(df['hour'].astype(int),[-.01,7,10,15,18,21])"
   ]
  },
  {
   "cell_type": "code",
   "execution_count": 10,
   "metadata": {
    "collapsed": false
   },
   "outputs": [],
   "source": [
    "df['dayofweek'] = df['date'].map(lambda x: x.dayofweek)\n",
    "df['month'] = df['date'].map(lambda x: x.month)\n",
    "df['season'] = df['date'].map(lambda x: x.quarter)\n",
    "df['year'] = df['date'].map(lambda x: x.year)\n"
   ]
  },
  {
   "cell_type": "code",
   "execution_count": 11,
   "metadata": {
    "collapsed": false
   },
   "outputs": [],
   "source": [
    "df_final = df.ix[~df['terminal'].isin(new_terminals),~df.columns.isin(['lat','long','online','date','Date','name','hood'])]"
   ]
  },
  {
   "cell_type": "code",
   "execution_count": 169,
   "metadata": {
    "collapsed": false
   },
   "outputs": [],
   "source": [
    "df_final.to_csv('regression.csv', index = False)"
   ]
  },
  {
   "cell_type": "code",
   "execution_count": 12,
   "metadata": {
    "collapsed": false
   },
   "outputs": [],
   "source": [
    "from sklearn.ensemble import RandomForestRegressor as RFC\n",
    "from sklearn.cross_validation import train_test_split"
   ]
  },
  {
   "cell_type": "code",
   "execution_count": 13,
   "metadata": {
    "collapsed": false
   },
   "outputs": [],
   "source": [
    "dff = df_final.ix[:,~df_final.columns.isin(['Max_Wind_Speed_MPH','Mean_Visibility_Miles','Min_Humidity','Mean_Temperature_F','Max_Temperature_F','Mean_Visibility_Mile','Min_Visibility_Miles','elevation','dockcount','timeperiod','season','Max_Visibility_Miles','big_cluster','smallgroups'])]"
   ]
  },
  {
   "cell_type": "code",
   "execution_count": 24,
   "metadata": {
    "collapsed": false
   },
   "outputs": [],
   "source": [
    "df_rf = pd.get_dummies(dff, columns = ['hour','dayofweek','year','terminal','month','Events'])"
   ]
  },
  {
   "cell_type": "code",
   "execution_count": 25,
   "metadata": {
    "collapsed": false
   },
   "outputs": [],
   "source": [
    "y = df_rf['count']\n",
    "X = df_rf.ix[:,~df_rf.columns.isin(['count'])].values"
   ]
  },
  {
   "cell_type": "code",
   "execution_count": 26,
   "metadata": {
    "collapsed": true
   },
   "outputs": [],
   "source": [
    "X_train, X_test, y_train, y_test = train_test_split(X, y, test_size=0.20, random_state=42)"
   ]
  },
  {
   "cell_type": "code",
   "execution_count": 29,
   "metadata": {
    "collapsed": false
   },
   "outputs": [],
   "source": [
    "rf = RFC(n_estimators=200, verbose = True, n_jobs = -1)"
   ]
  },
  {
   "cell_type": "code",
   "execution_count": 30,
   "metadata": {
    "collapsed": false
   },
   "outputs": [
    {
     "name": "stderr",
     "output_type": "stream",
     "text": [
      "[Parallel(n_jobs=-1)]: Done   1 out of 200 | elapsed:  1.1min remaining: 211.8min\n",
      "[Parallel(n_jobs=-1)]: Done 200 out of 200 | elapsed: 48.7min finished\n"
     ]
    },
    {
     "data": {
      "text/plain": [
       "RandomForestRegressor(bootstrap=True, criterion='mse', max_depth=None,\n",
       "           max_features='auto', max_leaf_nodes=None, min_samples_leaf=1,\n",
       "           min_samples_split=2, min_weight_fraction_leaf=0.0,\n",
       "           n_estimators=200, n_jobs=-1, oob_score=False, random_state=None,\n",
       "           verbose=True, warm_start=False)"
      ]
     },
     "execution_count": 30,
     "metadata": {},
     "output_type": "execute_result"
    }
   ],
   "source": [
    "rf.fit(X_train, y_train)"
   ]
  },
  {
   "cell_type": "code",
   "execution_count": 32,
   "metadata": {
    "collapsed": false
   },
   "outputs": [
    {
     "name": "stderr",
     "output_type": "stream",
     "text": [
      "[Parallel(n_jobs=4)]: Done   1 out of 200 | elapsed:    0.1s remaining:   14.4s\n",
      "[Parallel(n_jobs=4)]: Done 200 out of 200 | elapsed:    3.9s finished\n"
     ]
    }
   ],
   "source": [
    "score =  rf.score( X_test, y_test)"
   ]
  },
  {
   "cell_type": "code",
   "execution_count": 62,
   "metadata": {
    "collapsed": false
   },
   "outputs": [
    {
     "name": "stderr",
     "output_type": "stream",
     "text": [
      "[Parallel(n_jobs=4)]: Done   1 out of 200 | elapsed:    0.1s remaining:   14.1s\n",
      "[Parallel(n_jobs=4)]: Done 200 out of 200 | elapsed:    2.8s finished\n"
     ]
    },
    {
     "data": {
      "text/plain": [
       "0.52665339269405576"
      ]
     },
     "execution_count": 62,
     "metadata": {},
     "output_type": "execute_result"
    }
   ],
   "source": [
    "sum((rf.predict(X_test) - y_test)**2)/len(y_test)"
   ]
  },
  {
   "cell_type": "code",
   "execution_count": 39,
   "metadata": {
    "collapsed": false
   },
   "outputs": [
    {
     "name": "stderr",
     "output_type": "stream",
     "text": [
      "[Parallel(n_jobs=4)]: Done   1 out of 200 | elapsed:    0.1s remaining:   12.8s\n",
      "[Parallel(n_jobs=4)]: Done 200 out of 200 | elapsed:    2.9s finished\n"
     ]
    }
   ],
   "source": [
    "preds = rf.predict(X_test)"
   ]
  },
  {
   "cell_type": "code",
   "execution_count": 60,
   "metadata": {
    "collapsed": false
   },
   "outputs": [
    {
     "data": {
      "image/png": "[encoded data removed]",
      "text/plain": [
       "<matplotlib.figure.Figure at 0x109944f90>"
      ]
     },
     "metadata": {},
     "output_type": "display_data"
    }
   ],
   "source": [
    "fig = plt.figure()\n",
    "axes = fig.add_subplot(111)\n",
    "axes.set_xlim([-5,5])\n",
    "plt.hist((y_test-preds).values, bins = 100)\n",
    "\n",
    "plt.show()"
   ]
  },
  {
   "cell_type": "code",
   "execution_count": null,
   "metadata": {
    "collapsed": false
   },
   "outputs": [],
   "source": []
  },
  {
   "cell_type": "code",
   "execution_count": 22,
   "metadata": {
    "collapsed": false
   },
   "outputs": [],
   "source": [
    "#large = dff.ix[dff['count'] > 10, :]"
   ]
  },
  {
   "cell_type": "code",
   "execution_count": 23,
   "metadata": {
    "collapsed": false
   },
   "outputs": [
    {
     "data": {
      "text/plain": [
       "terminal\n",
       "BT-01      4\n",
       "BT-03      2\n",
       "CBD-03     4\n",
       "CBD-06     1\n",
       "CBD-07     1\n",
       "CBD-13     1\n",
       "CH-02      1\n",
       "CH-08      1\n",
       "PS-04      5\n",
       "SLU-01     1\n",
       "SLU-04     2\n",
       "SLU-15     1\n",
       "SLU-16     1\n",
       "SLU-17     4\n",
       "SLU-18     1\n",
       "UD-04      1\n",
       "WF-01     24\n",
       "WF-04      3\n",
       "Name: count, dtype: int64"
      ]
     },
     "execution_count": 23,
     "metadata": {},
     "output_type": "execute_result"
    }
   ],
   "source": [
    "#large.groupby(['terminal'])['count'].count()"
   ]
  },
  {
   "cell_type": "code",
   "execution_count": 236,
   "metadata": {
    "collapsed": false
   },
   "outputs": [
    {
     "data": {
      "text/plain": [
       "0     353065\n",
       "1      52221\n",
       "2      20089\n",
       "3       7185\n",
       "4       3003\n",
       "5       1273\n",
       "6        612\n",
       "7        239\n",
       "8        135\n",
       "9         67\n",
       "10        53\n",
       "11        23\n",
       "12        13\n",
       "13        11\n",
       "17         3\n",
       "14         2\n",
       "18         2\n",
       "19         1\n",
       "15         1\n",
       "16         1\n",
       "44         1\n",
       "dtype: int64"
      ]
     },
     "execution_count": 236,
     "metadata": {},
     "output_type": "execute_result"
    }
   ],
   "source": [
    "df_rf['count'].value_counts()"
   ]
  },
  {
   "cell_type": "code",
   "execution_count": null,
   "metadata": {
    "collapsed": false
   },
   "outputs": [],
   "source": [
    "z = rf.predict(X_train)"
   ]
  },
  {
   "cell_type": "code",
   "execution_count": null,
   "metadata": {
    "collapsed": true
   },
   "outputs": [],
   "source": [
    "pd.Series(z).value_counts()"
   ]
  },
  {
   "cell_type": "code",
   "execution_count": 64,
   "metadata": {
    "collapsed": false
   },
   "outputs": [],
   "source": [
    "dff.to_csv('final_demand.csv', index = False)"
   ]
  },
  {
   "cell_type": "code",
   "execution_count": null,
   "metadata": {
    "collapsed": true
   },
   "outputs": [],
   "source": []
  }
 ],
 "metadata": {
  "kernelspec": {
   "display_name": "Python 2",
   "language": "python",
   "name": "python2"
  },
  "language_info": {
   "codemirror_mode": {
    "name": "ipython",
    "version": 2
   },
   "file_extension": ".py",
   "mimetype": "text/x-python",
   "name": "python",
   "nbconvert_exporter": "python",
   "pygments_lexer": "ipython2",
   "version": "2.7.10"
  }
 },
 "nbformat": 4,
 "nbformat_minor": 0
}
